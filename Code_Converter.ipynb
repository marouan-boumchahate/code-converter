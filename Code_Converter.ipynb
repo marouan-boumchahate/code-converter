{
 "cells": [
  {
   "cell_type": "markdown",
   "id": "03129363-01b7-4e1f-ab82-c362819057d8",
   "metadata": {},
   "source": [
    "# Import Libs"
   ]
  },
  {
   "cell_type": "code",
   "execution_count": 1,
   "id": "a7efa962-b098-4d35-b2c1-f2e1f7e6bdca",
   "metadata": {},
   "outputs": [],
   "source": [
    "import os\n",
    "import io\n",
    "import sys\n",
    "from dotenv import load_dotenv\n",
    "from openai import OpenAI\n",
    "import google.generativeai\n",
    "import anthropic\n",
    "from IPython.display import Markdown, display, update_display\n",
    "import gradio as gr\n",
    "import subprocess"
   ]
  },
  {
   "cell_type": "markdown",
   "id": "a5ee8af3-c767-4cb8-8f90-378a06c45bd9",
   "metadata": {},
   "source": [
    "# Load openAI key"
   ]
  },
  {
   "cell_type": "code",
   "execution_count": 2,
   "id": "73f49d8c-ce94-4600-99ec-977ad6f49b3c",
   "metadata": {},
   "outputs": [],
   "source": [
    "load_dotenv(override=True)\n",
    "os.environ['OPENAI_API_KEY'] = os.getenv('OPENAI_API_KEY', 'your-key-if-not-using-env')"
   ]
  },
  {
   "cell_type": "markdown",
   "id": "3bed4353-1dbc-49f7-a92b-cdbb4f411a49",
   "metadata": {},
   "source": [
    "# Initializing the model"
   ]
  },
  {
   "cell_type": "code",
   "execution_count": 3,
   "id": "eeb264fd-3199-479d-8647-68b756ac909f",
   "metadata": {},
   "outputs": [],
   "source": [
    "openai = OpenAI()\n",
    "OPENAI_MODEL = \"gpt-4o\""
   ]
  },
  {
   "cell_type": "markdown",
   "id": "17265a3d-0a38-42f3-adf6-655f0092007c",
   "metadata": {},
   "source": [
    "# System Prompt"
   ]
  },
  {
   "cell_type": "code",
   "execution_count": 34,
   "id": "178bc29d-c460-40aa-9f1e-7dcc45713f44",
   "metadata": {},
   "outputs": [],
   "source": [
    "system_message = \"You are an assistant that reimplements a programming code from a language to another in high performance. \"\n",
    "system_message += \"Respond only with a programming code; use comments sparingly and do not provide any explanation other than occasional comments. \"\n",
    "system_message += \"The code response needs to produce an identical output in the fastest possible time. \"\n",
    "system_message += \"The code should be able to run with no need to any modification by the user which means you have to include all the necessary packages and fix any error that can be raised. \"\n",
    "system_message += \"NOTE!! DO NOT PUT THE CODE BETWEEN ```\""
   ]
  },
  {
   "cell_type": "markdown",
   "id": "84e7c6db-ed7b-44c1-9fad-7ebfca8503d5",
   "metadata": {},
   "source": [
    "# User Prompt"
   ]
  },
  {
   "cell_type": "code",
   "execution_count": 6,
   "id": "9a8b963c-22cc-4c4d-bb1c-051cfc342b3a",
   "metadata": {},
   "outputs": [],
   "source": [
    "def get_user_prompt(source_lang, target_lang, code):\n",
    "    user_message = f\"Rewrite this {source_lang} code in {target_lang} with the fastest possible implementation that produces identical output in the least time if possible. \"\n",
    "    user_message += f\"Respond only with {target_lang} code; do not explain your work other than a few comments. \"\n",
    "    user_message += f\"Code should be clean, clear and complete with all imports needed. the {source_lang} code is:\\n\\n\"\n",
    "    user_message += code\n",
    "    \n",
    "    return user_message"
   ]
  },
  {
   "cell_type": "markdown",
   "id": "e5aa299e-c140-4c2a-8516-957d48b3f7a5",
   "metadata": {},
   "source": [
    "# Prepare the Prompt"
   ]
  },
  {
   "cell_type": "code",
   "execution_count": 7,
   "id": "500e33a7-5f88-4749-b790-f3d14c1abf2f",
   "metadata": {},
   "outputs": [],
   "source": [
    "def get_prompt(source_lang, target_lang, code):\n",
    "    system = system_message\n",
    "    user = get_user_prompt(source_lang, target_lang, code)\n",
    "\n",
    "    return [\n",
    "        {'role': 'system', 'content': system},\n",
    "        {'role': 'user', 'content': user}\n",
    "    ]"
   ]
  },
  {
   "cell_type": "markdown",
   "id": "e1be15a7-f2d8-437b-a986-578858088c1d",
   "metadata": {},
   "source": [
    "# Get Model Response"
   ]
  },
  {
   "cell_type": "code",
   "execution_count": 30,
   "id": "14150f17-a325-43db-8aa5-23d01283c8d2",
   "metadata": {},
   "outputs": [],
   "source": [
    "def convert_gpt(source_lang, target_lang, code):\n",
    "    prompt = get_prompt(source_lang, target_lang, code)\n",
    "    \n",
    "    stream = openai.chat.completions.create(model=OPENAI_MODEL, messages=prompt, stream=True)\n",
    "    reply = ''\n",
    "    \n",
    "    for chunk in stream:\n",
    "        reply += chunk.choices[0].delta.content or ''\n",
    "        \n",
    "        yield reply"
   ]
  },
  {
   "cell_type": "markdown",
   "id": "216bf4f9-100a-4c1c-97d4-f6328a7f631a",
   "metadata": {},
   "source": [
    "# Interface"
   ]
  },
  {
   "cell_type": "code",
   "execution_count": 66,
   "id": "3c910d91-5b78-497d-9883-50f3c459b60a",
   "metadata": {},
   "outputs": [],
   "source": [
    "custom_css = \"\"\"\n",
    "/* Button styling */\n",
    ".white-bg {\n",
    "   background: linear-gradient(135deg, #667eea, #764ba2) !important;\n",
    "   color: white !important;\n",
    "   border: none !important;\n",
    "   border-radius: 12px !important;\n",
    "   font-weight: 600 !important;\n",
    "   padding: 15px 30px !important;\n",
    "   box-shadow: 0 4px 15px rgba(102, 126, 234, 0.3) !important;\n",
    "}\n",
    "\n",
    ".white-bg:hover {\n",
    "   transform: translateY(-2px) !important;\n",
    "   box-shadow: 0 8px 25px rgba(102, 126, 234, 0.5) !important;\n",
    "}\n",
    "\n",
    "/* Row styling */\n",
    ".row {\n",
    "   background: rgba(255, 255, 255, 0.15) !important;\n",
    "   border-radius: 15px !important;\n",
    "   padding: 20px !important;\n",
    "   margin: 10px 0 !important;\n",
    "   backdrop-filter: blur(10px) !important;\n",
    "   border: 1px solid rgba(255, 255, 255, 0.2) !important;\n",
    "}\n",
    "\"\"\""
   ]
  },
  {
   "cell_type": "code",
   "execution_count": 67,
   "id": "e6f29bfe-907e-4aea-8965-23566a5a27f9",
   "metadata": {},
   "outputs": [
    {
     "name": "stdout",
     "output_type": "stream",
     "text": [
      "* Running on local URL:  http://127.0.0.1:7884\n",
      "* To create a public link, set `share=True` in `launch()`.\n"
     ]
    },
    {
     "data": {
      "text/html": [
       "<div><iframe src=\"http://127.0.0.1:7884/\" width=\"100%\" height=\"500\" allow=\"autoplay; camera; microphone; clipboard-read; clipboard-write;\" frameborder=\"0\" allowfullscreen></iframe></div>"
      ],
      "text/plain": [
       "<IPython.core.display.HTML object>"
      ]
     },
     "metadata": {},
     "output_type": "display_data"
    },
    {
     "data": {
      "text/plain": []
     },
     "execution_count": 67,
     "metadata": {},
     "output_type": "execute_result"
    }
   ],
   "source": [
    "with gr.Blocks(css=custom_css) as UI:\n",
    "    with gr.Row():\n",
    "        source_lang = gr.Dropdown(label='Select programming language (From)', choices=[\"Python\", \"JavaScript\", \"C++\", \"C#\", \"Java\", \"Rust\"], value='Python')\n",
    "        target_lang = gr.Dropdown(label='Select programming language (To)', choices=[\"Python\", \"JavaScript\", \"C++\", \"C#\", \"Java\", \"Rust\"], value='C++')\n",
    "    with gr.Row():\n",
    "        source_code = gr.Textbox(label=\"Source Code\", lines=10)\n",
    "        target_code = gr.Textbox(label=\"Target Code\", lines=10)\n",
    "    with gr.Row():\n",
    "        convert = gr.Button('Convert Code', elem_classes=['white-bg'])\n",
    "\n",
    "    convert.click(convert_gpt, inputs=[source_lang, target_lang, source_code], outputs=[target_code])\n",
    "\n",
    "UI.launch(inbrowser=True)"
   ]
  },
  {
   "cell_type": "code",
   "execution_count": null,
   "id": "6724e299-ba59-4bf2-a9d3-f1d685aa3ae6",
   "metadata": {},
   "outputs": [],
   "source": []
  }
 ],
 "metadata": {
  "kernelspec": {
   "display_name": "Python 3 (ipykernel)",
   "language": "python",
   "name": "python3"
  },
  "language_info": {
   "codemirror_mode": {
    "name": "ipython",
    "version": 3
   },
   "file_extension": ".py",
   "mimetype": "text/x-python",
   "name": "python",
   "nbconvert_exporter": "python",
   "pygments_lexer": "ipython3",
   "version": "3.11.13"
  }
 },
 "nbformat": 4,
 "nbformat_minor": 5
}
